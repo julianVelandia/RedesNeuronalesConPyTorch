{
  "cells": [
    {
      "cell_type": "markdown",
      "metadata": {
        "id": "view-in-github",
        "colab_type": "text"
      },
      "source": [
        "<a href=\"https://colab.research.google.com/github/julianVelandia/RedesNeuronalesConPyTorch/blob/master/conocimientos-previos/1_5_Introducci%C3%B3n_a_Pandas_FULL.ipynb\" target=\"_parent\"><img src=\"https://colab.research.google.com/assets/colab-badge.svg\" alt=\"Open In Colab\"/></a>"
      ]
    },
    {
      "cell_type": "markdown",
      "id": "78d26e86",
      "metadata": {
        "id": "78d26e86"
      },
      "source": [
        "# Pandas\n",
        "\n",
        "\n",
        "`pandas` es una librería de Python especializada en la manipulación y el análisis de datos. Es ampliamente utilizada en ciencia de datos, finanzas, estadística, entre otros campos. En este curso, exploraremos las funcionalidades clave de `pandas` desde lo más básico hasta técnicas más avanzadas.\n"
      ]
    },
    {
      "cell_type": "code",
      "execution_count": null,
      "id": "1ae400bf",
      "metadata": {
        "colab": {
          "base_uri": "https://localhost:8080/"
        },
        "id": "1ae400bf",
        "outputId": "e90f82dc-b911-40ba-a426-19dfd353d91b"
      },
      "outputs": [
        {
          "output_type": "stream",
          "name": "stdout",
          "text": [
            "Requirement already satisfied: pandas in /usr/local/lib/python3.10/dist-packages (2.1.4)\n",
            "Requirement already satisfied: numpy<2,>=1.22.4 in /usr/local/lib/python3.10/dist-packages (from pandas) (1.26.4)\n",
            "Requirement already satisfied: python-dateutil>=2.8.2 in /usr/local/lib/python3.10/dist-packages (from pandas) (2.8.2)\n",
            "Requirement already satisfied: pytz>=2020.1 in /usr/local/lib/python3.10/dist-packages (from pandas) (2024.2)\n",
            "Requirement already satisfied: tzdata>=2022.1 in /usr/local/lib/python3.10/dist-packages (from pandas) (2024.1)\n",
            "Requirement already satisfied: six>=1.5 in /usr/local/lib/python3.10/dist-packages (from python-dateutil>=2.8.2->pandas) (1.16.0)\n"
          ]
        }
      ],
      "source": [
        "!pip install pandas"
      ]
    },
    {
      "cell_type": "markdown",
      "id": "cd048617",
      "metadata": {
        "id": "cd048617"
      },
      "source": [
        "## Estructuras de Datos en Pandas\n",
        "\n",
        "### Series\n",
        "\n",
        "Una `Series` es una estructura unidimensional que puede contener cualquier tipo de dato."
      ]
    },
    {
      "cell_type": "markdown",
      "source": [
        "| Índice | Valor |\n",
        "|--------|-------|\n",
        "|   0    |   10  |\n",
        "|   1    |   20  |\n",
        "|   2    |   30  |\n",
        "|   3    |   40  |\n",
        "|   4    |   50  |"
      ],
      "metadata": {
        "id": "Yw8n5oFeeYux"
      },
      "id": "Yw8n5oFeeYux"
    },
    {
      "cell_type": "code",
      "execution_count": null,
      "id": "b2d2b72f",
      "metadata": {
        "colab": {
          "base_uri": "https://localhost:8080/"
        },
        "id": "b2d2b72f",
        "outputId": "e68bf322-b1fe-4af4-e6d2-8f26d1fa5f34"
      },
      "outputs": [
        {
          "output_type": "stream",
          "name": "stdout",
          "text": [
            "Serie de pandas con valores 10, 20, 30, 40, 50 y un índice que va de 0 a 4:\n",
            " 0    10\n",
            "1    20\n",
            "2    30\n",
            "3    40\n",
            "4    50\n",
            "dtype: int64\n"
          ]
        }
      ],
      "source": [
        "import pandas as pd\n",
        "\n",
        "serie = pd.Series([10, 20, 30, 40, 50])\n",
        "print(\"Serie de pandas con valores 10, 20, 30, 40, 50 y un índice que va de 0 a 4:\\n\", serie)"
      ]
    },
    {
      "cell_type": "markdown",
      "id": "396b6f23",
      "metadata": {
        "id": "396b6f23"
      },
      "source": [
        "### DataFrame\n",
        "\n",
        "Un `DataFrame` es una estructura bidimensional similar a una tabla en una base de datos o una hoja de cálculo."
      ]
    },
    {
      "cell_type": "markdown",
      "source": [
        "| Nombre | Edad | Ciudad    |\n",
        "|--------|------|-----------|\n",
        "| Ana    |  23  | Madrid    |\n",
        "| Luis   |  34  | Barcelona |\n",
        "| Carlos |  45  | Valencia  |"
      ],
      "metadata": {
        "id": "LjTWyimxei3w"
      },
      "id": "LjTWyimxei3w"
    },
    {
      "cell_type": "code",
      "execution_count": null,
      "id": "17010610",
      "metadata": {
        "colab": {
          "base_uri": "https://localhost:8080/"
        },
        "id": "17010610",
        "outputId": "2f7edaac-3ac1-44cf-e75b-18fa835b96a0"
      },
      "outputs": [
        {
          "output_type": "stream",
          "name": "stdout",
          "text": [
            "DataFrame con columnas 'Nombre', 'Edad' y 'Ciudad':\n",
            "    Nombre  Edad     Ciudad\n",
            "0     Ana    23     Madrid\n",
            "1    Luis    34  Barcelona\n",
            "2  Carlos    45   Valencia\n"
          ]
        }
      ],
      "source": [
        "data = {\n",
        "    'Nombre': ['Ana', 'Luis', 'Carlos'],\n",
        "    'Edad': [23, 34, 45],\n",
        "    'Ciudad': ['Madrid', 'Barcelona', 'Valencia']\n",
        "}\n",
        "\n",
        "df = pd.DataFrame(data)\n",
        "print(\"DataFrame con columnas 'Nombre', 'Edad' y 'Ciudad':\\n\", df)"
      ]
    },
    {
      "cell_type": "markdown",
      "id": "aed69ea5",
      "metadata": {
        "id": "aed69ea5"
      },
      "source": [
        "## Operaciones Básicas\n",
        "\n",
        "### Acceso a los Datos\n",
        "\n",
        "Puedes acceder a los datos de un `DataFrame` utilizando los nombres de las columnas."
      ]
    },
    {
      "cell_type": "code",
      "execution_count": null,
      "id": "36c5edc8",
      "metadata": {
        "colab": {
          "base_uri": "https://localhost:8080/"
        },
        "id": "36c5edc8",
        "outputId": "5725a4fe-5921-4fc7-e4ea-6f0f61ea8b0d"
      },
      "outputs": [
        {
          "output_type": "stream",
          "name": "stdout",
          "text": [
            "Columna 'Nombre' del DataFrame:\n",
            " 0       Ana\n",
            "1      Luis\n",
            "2    Carlos\n",
            "Name: Nombre, dtype: object\n"
          ]
        }
      ],
      "source": [
        "print(\"Columna 'Nombre' del DataFrame:\\n\", df['Nombre'])"
      ]
    },
    {
      "cell_type": "markdown",
      "id": "fee16b35",
      "metadata": {
        "id": "fee16b35"
      },
      "source": [
        "### Filtrado de Datos\n",
        "\n",
        "Puedes filtrar los datos según condiciones específicas."
      ]
    },
    {
      "cell_type": "code",
      "execution_count": null,
      "id": "8ea3c7bd",
      "metadata": {
        "colab": {
          "base_uri": "https://localhost:8080/"
        },
        "id": "8ea3c7bd",
        "outputId": "b6c23abd-ba41-48d0-b5e3-92c8e7c153c7"
      },
      "outputs": [
        {
          "output_type": "stream",
          "name": "stdout",
          "text": [
            "DataFrame filtrado donde la edad es mayor a 30:\n",
            "    Nombre  Edad     Ciudad\n",
            "1    Luis    34  Barcelona\n",
            "2  Carlos    45   Valencia\n"
          ]
        }
      ],
      "source": [
        "print(\"DataFrame filtrado donde la edad es mayor a 30:\\n\", df[df['Edad'] > 30])"
      ]
    },
    {
      "cell_type": "markdown",
      "id": "9fe380aa",
      "metadata": {
        "id": "9fe380aa"
      },
      "source": [
        "### Adición y Eliminación de Columnas\n",
        "\n",
        "Puedes agregar y eliminar columnas fácilmente."
      ]
    },
    {
      "cell_type": "code",
      "execution_count": null,
      "id": "1eb8b63a",
      "metadata": {
        "colab": {
          "base_uri": "https://localhost:8080/"
        },
        "id": "1eb8b63a",
        "outputId": "a07b2654-1691-40ca-dc7f-358d65012eff"
      },
      "outputs": [
        {
          "output_type": "stream",
          "name": "stdout",
          "text": [
            "DataFrame con nueva columna 'Salario':\n",
            "    Nombre  Edad     Ciudad  Salario\n",
            "0     Ana    23     Madrid    50000\n",
            "1    Luis    34  Barcelona    60000\n",
            "2  Carlos    45   Valencia    70000\n",
            "DataFrame después de eliminar la columna 'Salario':\n",
            "    Nombre  Edad     Ciudad\n",
            "0     Ana    23     Madrid\n",
            "1    Luis    34  Barcelona\n",
            "2  Carlos    45   Valencia\n"
          ]
        }
      ],
      "source": [
        "df['Salario'] = [50000, 60000, 70000]\n",
        "print(\"DataFrame con nueva columna 'Salario':\\n\", df)\n",
        "\n",
        "df.drop('Salario', axis=1, inplace=True)\n",
        "print(\"DataFrame después de eliminar la columna 'Salario':\\n\", df)"
      ]
    },
    {
      "cell_type": "markdown",
      "id": "bf2ec48d",
      "metadata": {
        "id": "bf2ec48d"
      },
      "source": [
        "## Operaciones con Datos Faltantes\n",
        "\n",
        "### Identificación de Datos Faltantes\n",
        "\n",
        "Es importante identificar datos faltantes para manejarlos adecuadamente."
      ]
    },
    {
      "cell_type": "code",
      "execution_count": null,
      "id": "7ffbfcbc",
      "metadata": {
        "colab": {
          "base_uri": "https://localhost:8080/"
        },
        "id": "7ffbfcbc",
        "outputId": "b2e1220f-1337-4dd7-aa75-3d4be720a921"
      },
      "outputs": [
        {
          "output_type": "stream",
          "name": "stdout",
          "text": [
            "DataFrame de valores booleanos (True o False) que indican la presencia de datos faltantes (NaN) en el DataFrame:\n",
            "    Nombre   Edad  Ciudad  Salario\n",
            "0   False  False   False    False\n",
            "1   False  False   False    False\n",
            "2   False  False   False     True\n"
          ]
        }
      ],
      "source": [
        "df['Salario'] = [50000, 60000, None]\n",
        "print(\"DataFrame de valores booleanos (True o False) que indican la presencia de datos faltantes (NaN) en el DataFrame:\\n\", df.isnull())"
      ]
    },
    {
      "cell_type": "markdown",
      "id": "67984df6",
      "metadata": {
        "id": "67984df6"
      },
      "source": [
        "### Manejo de Datos Faltantes\n",
        "\n",
        "Puedes rellenar o eliminar datos faltantes."
      ]
    },
    {
      "cell_type": "code",
      "execution_count": null,
      "id": "b31574f0",
      "metadata": {
        "colab": {
          "base_uri": "https://localhost:8080/"
        },
        "id": "b31574f0",
        "outputId": "1fa1e603-7885-4da8-e524-4ce0ba2163ed"
      },
      "outputs": [
        {
          "output_type": "stream",
          "name": "stdout",
          "text": [
            "DataFrame después de reemplazar los valores faltantes por 0:\n",
            "    Nombre  Edad     Ciudad  Salario\n",
            "0     Ana    23     Madrid  50000.0\n",
            "1    Luis    34  Barcelona  60000.0\n",
            "2  Carlos    45   Valencia      0.0\n",
            "   Nombre  Edad     Ciudad  Salario\n",
            "0     Ana    23     Madrid  50000.0\n",
            "1    Luis    34  Barcelona  60000.0\n",
            "2  Carlos    45   Valencia      NaN\n",
            "DataFrame después de eliminar cualquier fila con valores faltantes:\n",
            "   Nombre  Edad     Ciudad  Salario\n",
            "0    Ana    23     Madrid  50000.0\n",
            "1   Luis    34  Barcelona  60000.0\n"
          ]
        }
      ],
      "source": [
        "df.fillna(0, inplace=True)\n",
        "print(\"DataFrame después de reemplazar los valores faltantes por 0:\\n\", df)\n",
        "\n",
        "df['Salario'] = [50000, 60000, None]\n",
        "print(df)\n",
        "\n",
        "df.dropna(inplace=True)\n",
        "print(\"DataFrame después de eliminar cualquier fila con valores faltantes:\\n\", df)"
      ]
    },
    {
      "cell_type": "code",
      "execution_count": null,
      "id": "6f2e8e54",
      "metadata": {
        "colab": {
          "base_uri": "https://localhost:8080/"
        },
        "id": "6f2e8e54",
        "outputId": "4110e873-a997-423d-81b3-80ffc1453a3c"
      },
      "outputs": [
        {
          "output_type": "stream",
          "name": "stdout",
          "text": [
            "DataFrame después de incrementar en 1 la columna 'Edad' para cada fila:\n",
            "             Nombre  Edad     Ciudad\n",
            "Fecha                              \n",
            "2023-01-01     Ana    24     Madrid\n",
            "2023-02-01    Luis    35  Barcelona\n",
            "2023-03-01  Carlos    46   Valencia\n",
            "2023-04-01     Ana    24     Madrid\n"
          ]
        }
      ],
      "source": [
        "def incrementar(x):\n",
        "    return x + 1\n",
        "\n",
        "df['Edad'] = df['Edad'].apply(incrementar)\n",
        "print(\"DataFrame después de incrementar en 1 la columna 'Edad' para cada fila:\\n\", df)"
      ]
    }
  ],
  "metadata": {
    "colab": {
      "provenance": [],
      "include_colab_link": true
    },
    "language_info": {
      "name": "python"
    },
    "kernelspec": {
      "name": "python3",
      "display_name": "Python 3"
    }
  },
  "nbformat": 4,
  "nbformat_minor": 5
}