{
  "cells": [
    {
      "cell_type": "markdown",
      "metadata": {
        "id": "view-in-github",
        "colab_type": "text"
      },
      "source": [
        "<a href=\"https://colab.research.google.com/github/julianVelandia/RedesNeuronalesConPyTorch/blob/master/conocimientos-previos/1_4_introduccion_a_numpy_FULL.ipynb\" target=\"_parent\"><img src=\"https://colab.research.google.com/assets/colab-badge.svg\" alt=\"Open In Colab\"/></a>"
      ]
    },
    {
      "cell_type": "markdown",
      "id": "555ab7ea",
      "metadata": {
        "id": "555ab7ea"
      },
      "source": [
        "# Introducción a NumPy"
      ]
    },
    {
      "cell_type": "markdown",
      "id": "c066217d",
      "metadata": {
        "id": "c066217d"
      },
      "source": [
        "Una de las bibliotecas más populares en Python para la manipulación de arrays y computación numérica. NumPy es esencial para cualquier trabajo en ciencia de datos, aprendizaje automático, y cualquier disciplina que requiera operaciones matemáticas rápidas y eficientes."
      ]
    },
    {
      "cell_type": "code",
      "source": [
        "import numpy as np"
      ],
      "metadata": {
        "id": "K-ZcTcW6UGXN"
      },
      "id": "K-ZcTcW6UGXN",
      "execution_count": null,
      "outputs": []
    },
    {
      "cell_type": "markdown",
      "source": [
        "Es usual que se importe con el alias de np"
      ],
      "metadata": {
        "id": "AqLoFjM_MQWR"
      },
      "id": "AqLoFjM_MQWR"
    },
    {
      "cell_type": "markdown",
      "id": "19a7cabb",
      "metadata": {
        "id": "19a7cabb"
      },
      "source": [
        "## Creación de Arrays"
      ]
    },
    {
      "cell_type": "markdown",
      "id": "e919a654",
      "metadata": {
        "id": "e919a654"
      },
      "source": [
        "Un array es una estructura de datos similar a una lista en Python, pero mucho más eficiente para operaciones numéricas. NumPy permite crear arrays de múltiples dimensiones."
      ]
    },
    {
      "cell_type": "code",
      "execution_count": null,
      "id": "287004f3",
      "metadata": {
        "colab": {
          "base_uri": "https://localhost:8080/"
        },
        "id": "287004f3",
        "outputId": "33c7fe6e-568d-46e3-a6e1-722d4070bfd7"
      },
      "outputs": [
        {
          "output_type": "stream",
          "name": "stdout",
          "text": [
            "Array de una dimensión: [1 2 3 4 5]\n",
            "Array de dos dimensiones:\n",
            " [[1 2 3]\n",
            " [4 5 6]]\n",
            "Array de tres dimensiones:\n",
            " [[[1 2]\n",
            "  [3 4]]\n",
            "\n",
            " [[5 6]\n",
            "  [7 8]]]\n"
          ]
        }
      ],
      "source": [
        "arr_1d = np.array([1, 2, 3, 4, 5])\n",
        "print('Array de una dimensión:', arr_1d)\n",
        "\n",
        "arr_2d = np.array([[1, 2, 3], [4, 5, 6]])\n",
        "print('Array de dos dimensiones:\\n', arr_2d)\n",
        "\n",
        "arr_3d = np.array([[[1, 2], [3, 4]], [[5, 6], [7, 8]]])\n",
        "print('Array de tres dimensiones:\\n', arr_3d)"
      ]
    },
    {
      "cell_type": "markdown",
      "id": "08917a1c",
      "metadata": {
        "id": "08917a1c"
      },
      "source": [
        "## Atributos de los Arrays"
      ]
    },
    {
      "cell_type": "markdown",
      "id": "015c70b8",
      "metadata": {
        "id": "015c70b8"
      },
      "source": [
        "Los arrays de NumPy tienen varios atributos importantes que puedes utilizar para obtener información sobre ellos."
      ]
    },
    {
      "cell_type": "code",
      "execution_count": null,
      "id": "b71df9a2",
      "metadata": {
        "colab": {
          "base_uri": "https://localhost:8080/"
        },
        "id": "b71df9a2",
        "outputId": "3e68d016-d5b4-4f70-ecac-256bda13d10f"
      },
      "outputs": [
        {
          "output_type": "stream",
          "name": "stdout",
          "text": [
            "Forma del array 2D: (2, 3)\n",
            "Número de dimensiones del array 3D: 3\n",
            "Número total de elementos en el array 1D: 5\n",
            "Tipo de dato en el array 2D: int64\n"
          ]
        }
      ],
      "source": [
        "print('Forma del array 2D:', arr_2d.shape)\n",
        "print('Número de dimensiones del array 3D:', arr_3d.ndim)\n",
        "print('Número total de elementos en el array 1D:', arr_1d.size)\n",
        "print('Tipo de dato en el array 2D:', arr_2d.dtype)"
      ]
    },
    {
      "cell_type": "markdown",
      "id": "56f3f371",
      "metadata": {
        "id": "56f3f371"
      },
      "source": [
        "## Indexación y Slicing"
      ]
    },
    {
      "cell_type": "markdown",
      "id": "4455b0c6",
      "metadata": {
        "id": "4455b0c6"
      },
      "source": [
        "La indexación y el slicing en arrays de NumPy son similares a las listas en Python, pero con mayor flexibilidad para trabajar con arrays multidimensionales."
      ]
    },
    {
      "cell_type": "code",
      "execution_count": null,
      "id": "47561401",
      "metadata": {
        "colab": {
          "base_uri": "https://localhost:8080/"
        },
        "id": "47561401",
        "outputId": "6dd46960-2071-40dc-dd22-a282e310c564"
      },
      "outputs": [
        {
          "output_type": "stream",
          "name": "stdout",
          "text": [
            "Primer elemento del array 1D: 1\n",
            "Elemento en la posición (1, 2) del array 2D: 2\n",
            "Slicing del array 1D (primeros 3 elementos): [1 2 3]\n",
            "Slicing del array 2D (columna 2):\n",
            " [2 5]\n"
          ]
        }
      ],
      "source": [
        "print('Primer elemento del array 1D:', arr1[0])\n",
        "print('Último elemento del array 1D:', arr1[-1])\n",
        "print('Slicing del array 1D (primeros 2 elementos):', arr1[:2])\n",
        "print('Slicing del array 1D (todos menos el primero):', arr1[1:])\n",
        "print('Slicing del array 1D (todos menos el último):', arr1[:-1])"
      ]
    },
    {
      "cell_type": "markdown",
      "id": "6cbb822f",
      "metadata": {
        "id": "6cbb822f"
      },
      "source": [
        "## Operaciones Matemáticas con Arrays"
      ]
    },
    {
      "cell_type": "markdown",
      "id": "05dfc415",
      "metadata": {
        "id": "05dfc415"
      },
      "source": [
        "Una de las grandes ventajas de NumPy es que permite realizar operaciones matemáticas sobre arrays enteros de manera eficiente, sin necesidad de bucles."
      ]
    },
    {
      "cell_type": "code",
      "execution_count": null,
      "id": "f8b0721f",
      "metadata": {
        "colab": {
          "base_uri": "https://localhost:8080/"
        },
        "id": "f8b0721f",
        "outputId": "5e4f7ba8-dce1-4444-b100-8c77bbd6600b"
      },
      "outputs": [
        {
          "output_type": "stream",
          "name": "stdout",
          "text": [
            "Suma de arrays: [11 12 13 14 15]\n",
            "Multiplicación por un escalar: [ 2  4  6  8 10]\n",
            "Producto punto: 11\n"
          ]
        }
      ],
      "source": [
        "arr_sum = arr_1d + np.array([10, 10, 10, 10, 10])\n",
        "print('Suma de arrays:', arr_sum)\n",
        "\n",
        "arr_mult = arr_1d * 2\n",
        "print('Multiplicación por un escalar:', arr_mult)\n"
      ]
    },
    {
      "cell_type": "code",
      "source": [
        "arr_a = np.array([1, 2])\n",
        "arr_b = np.array([3, 4])\n",
        "dot_product = np.dot(arr_a, arr_b)\n",
        "print('Producto punto:', dot_product)"
      ],
      "metadata": {
        "id": "ZqMmwsztQteB"
      },
      "id": "ZqMmwsztQteB",
      "execution_count": null,
      "outputs": []
    },
    {
      "cell_type": "markdown",
      "source": [
        "Matemáticamente, si tenemos dos vectores\n",
        "a = [a1, a2] y b = [b1, b2], el producto punto a ⋅ b se calcula como:\n",
        "\n",
        "a ⋅ b = a1 × b1 + a2 × b2\n",
        "\n",
        "Aplicando esto a nuestros vectores `arr_a` y `arr_b`:\n",
        "\n",
        "dot_product = 1 × 3 + 2 × 4 = 3 + 8 = 11\n"
      ],
      "metadata": {
        "id": "HlpICFaUQ3vT"
      },
      "id": "HlpICFaUQ3vT"
    },
    {
      "cell_type": "markdown",
      "id": "12777d3e",
      "metadata": {
        "id": "12777d3e"
      },
      "source": [
        "## Funciones Universales (ufuncs)"
      ]
    },
    {
      "cell_type": "markdown",
      "id": "3a128d4e",
      "metadata": {
        "id": "3a128d4e"
      },
      "source": [
        "NumPy proporciona un conjunto de funciones universales (ufuncs) que permiten realizar operaciones matemáticas comunes de manera eficiente sobre arrays."
      ]
    },
    {
      "cell_type": "code",
      "execution_count": null,
      "id": "87ae4ee3",
      "metadata": {
        "colab": {
          "base_uri": "https://localhost:8080/"
        },
        "id": "87ae4ee3",
        "outputId": "70fca297-0b11-47d8-e549-5015f91fef19"
      },
      "outputs": [
        {
          "output_type": "stream",
          "name": "stdout",
          "text": [
            "Seno de cada elemento en arr_1d: [ 0.84147098  0.90929743  0.14112001 -0.7568025  -0.95892427]\n",
            "Exponencial de cada elemento en arr_1d: [  2.71828183   7.3890561   20.08553692  54.59815003 148.4131591 ]\n"
          ]
        }
      ],
      "source": [
        "arr_sin = np.sin(arr_1d)\n",
        "print('Seno de cada elemento en arr_1d:', arr_sin)\n",
        "\n",
        "arr_exp = np.exp(arr_1d)\n",
        "print('Exponencial de cada elemento en arr_1d:', arr_exp)"
      ]
    },
    {
      "cell_type": "markdown",
      "id": "40e83fb4",
      "metadata": {
        "id": "40e83fb4"
      },
      "source": [
        "## Manipulación de la Forma del Array (Reshaping)"
      ]
    },
    {
      "cell_type": "markdown",
      "id": "5ddb0b0d",
      "metadata": {
        "id": "5ddb0b0d"
      },
      "source": [
        "Es posible cambiar la forma de un array sin alterar sus datos utilizando la función reshape. Esto es útil cuando quieres reorganizar los datos en diferentes dimensiones."
      ]
    },
    {
      "cell_type": "code",
      "execution_count": null,
      "id": "13126843",
      "metadata": {
        "colab": {
          "base_uri": "https://localhost:8080/"
        },
        "id": "13126843",
        "outputId": "071091d3-c9ad-4fda-c8bc-05d3d02bfeff"
      },
      "outputs": [
        {
          "output_type": "stream",
          "name": "stdout",
          "text": [
            "Array 1D original: [1 2 3 4 5]\n",
            "Array 1D reshaped a 2D:\n",
            " [[1 2 3 4 5]]\n",
            "Array 1D reshaped a 3D:\n",
            " [[[1]]\n",
            "\n",
            " [[2]]\n",
            "\n",
            " [[3]]\n",
            "\n",
            " [[4]]\n",
            "\n",
            " [[5]]]\n"
          ]
        }
      ],
      "source": [
        "print('Array 1D original:', arr_1d)\n",
        "\n",
        "arr_reshaped = arr_1d.reshape((1, 5))\n",
        "print('Array 1D reshaped a 2D:\\n', arr_reshaped)\n",
        "\n",
        "arr_reshaped_3d = arr_1d.reshape((5, 1, 1))\n",
        "print('Array 1D reshaped a 3D:\\n', arr_reshaped_3d)"
      ]
    },
    {
      "cell_type": "markdown",
      "id": "b3e44b40",
      "metadata": {
        "id": "b3e44b40"
      },
      "source": [
        "## Broadcasting"
      ]
    },
    {
      "cell_type": "markdown",
      "id": "00917390",
      "metadata": {
        "id": "00917390"
      },
      "source": [
        "Broadcasting es una poderosa característica de NumPy que permite realizar operaciones entre arrays de diferentes formas, expandiendo automáticamente las dimensiones de los arrays más pequeños para que coincidan con los más grandes."
      ]
    },
    {
      "cell_type": "code",
      "execution_count": null,
      "id": "e3573d86",
      "metadata": {
        "colab": {
          "base_uri": "https://localhost:8080/"
        },
        "id": "e3573d86",
        "outputId": "697bda75-6369-4b04-9ac7-9d0a8939c113"
      },
      "outputs": [
        {
          "output_type": "stream",
          "name": "stdout",
          "text": [
            "Broadcasting (sumar escalar 10):\n",
            " [[11 12 13]\n",
            " [14 15 16]]\n"
          ]
        }
      ],
      "source": [
        "arr_broadcast = arr_2d + 10\n",
        "print('Broadcasting (sumar escalar 10):\\n', arr_broadcast)"
      ]
    },
    {
      "cell_type": "markdown",
      "source": [
        "arr_2d es un array bidimensional (una matriz).\n",
        "\n",
        "Broadcasting expande automáticamente el escalar 10 para que coincida con la forma del array arr_2d. Internamente, NumPy \"repite\" el escalar 10 tantas veces como sea necesario para que tenga la misma forma que el array arr_2d."
      ],
      "metadata": {
        "id": "5hCMbKdXNMsH"
      },
      "id": "5hCMbKdXNMsH"
    },
    {
      "cell_type": "code",
      "source": [
        "np.array([[1, 2, 3],\n",
        "          [4, 5, 6]])\n",
        "\n",
        "# Sumado con\n",
        "\n",
        "[[10, 10, 10],\n",
        " [10, 10, 10]]\n",
        "\n",
        "# Da como resultado:\n",
        "\n",
        "[[1 + 10, 2 + 10, 3 + 10],\n",
        " [4 + 10, 5 + 10, 6 + 10]]\n"
      ],
      "metadata": {
        "colab": {
          "base_uri": "https://localhost:8080/"
        },
        "id": "doVUPHwLNeVF",
        "outputId": "5163afe6-5b60-4691-9f38-e4b8beef83e3"
      },
      "id": "doVUPHwLNeVF",
      "execution_count": null,
      "outputs": [
        {
          "output_type": "execute_result",
          "data": {
            "text/plain": [
              "[[11, 12, 13], [14, 15, 16]]"
            ]
          },
          "metadata": {},
          "execution_count": 11
        }
      ]
    },
    {
      "cell_type": "code",
      "source": [
        "arr_broadcast_2 = arr_2d + np.array([1, 2, 3])\n",
        "print('Broadcasting entre array 1D y 2D:\\n', arr_broadcast_2)"
      ],
      "metadata": {
        "colab": {
          "base_uri": "https://localhost:8080/"
        },
        "id": "zGI-7igtN2mq",
        "outputId": "1fddcc9e-ecd6-4bce-a454-6f25dd025c04"
      },
      "id": "zGI-7igtN2mq",
      "execution_count": null,
      "outputs": [
        {
          "output_type": "stream",
          "name": "stdout",
          "text": [
            "Broadcasting entre array 1D y 2D:\n",
            " [[2 4 6]\n",
            " [5 7 9]]\n"
          ]
        }
      ]
    },
    {
      "cell_type": "code",
      "source": [
        "np.array([[1, 2, 3],\n",
        "          [4, 5, 6]])\n",
        "\n",
        "# Sumado con\n",
        "\n",
        "[[1, 2, 3],\n",
        " [1, 2, 3]]\n",
        "\n",
        "# Da como resultado:\n",
        "\n",
        "[[1 + 1, 2 + 2, 3 + 3],\n",
        " [4 + 1, 5 + 2, 6 + 3]]"
      ],
      "metadata": {
        "colab": {
          "base_uri": "https://localhost:8080/"
        },
        "id": "pZxYw23rOByq",
        "outputId": "0f55cae2-c677-49e9-d560-1a883bcea27a"
      },
      "id": "pZxYw23rOByq",
      "execution_count": null,
      "outputs": [
        {
          "output_type": "execute_result",
          "data": {
            "text/plain": [
              "[[2, 4, 6], [5, 7, 9]]"
            ]
          },
          "metadata": {},
          "execution_count": 14
        }
      ]
    },
    {
      "cell_type": "markdown",
      "id": "99340008",
      "metadata": {
        "id": "99340008"
      },
      "source": [
        "## Agregación y Estadísticas"
      ]
    },
    {
      "cell_type": "markdown",
      "id": "0d4d2297",
      "metadata": {
        "id": "0d4d2297"
      },
      "source": [
        "NumPy ofrece una serie de funciones de agregación que permiten calcular estadísticas sobre los datos de los arrays de manera sencilla."
      ]
    },
    {
      "cell_type": "code",
      "execution_count": null,
      "id": "1fd8e1f9",
      "metadata": {
        "id": "1fd8e1f9"
      },
      "outputs": [],
      "source": [
        "print('Suma de todos los elementos en arr_1d:', np.sum(arr_1d))\n",
        "print('Promedio de los elementos en arr_1d:', np.mean(arr_1d))\n",
        "print('Valor máximo en arr_2d:', np.max(arr_2d))\n",
        "print('Índice del valor máximo en arr_2d:', np.argmax(arr_2d))"
      ]
    },
    {
      "cell_type": "markdown",
      "id": "55ceafbd",
      "metadata": {
        "id": "55ceafbd"
      },
      "source": [
        "## Concatenación de Arrays"
      ]
    },
    {
      "cell_type": "markdown",
      "id": "986b61b5",
      "metadata": {
        "id": "986b61b5"
      },
      "source": [
        "Puedes unir múltiples arrays utilizando las funciones de concatenación de NumPy. Esto es útil para combinar datos en diferentes ejes."
      ]
    },
    {
      "cell_type": "code",
      "execution_count": null,
      "id": "6deacf52",
      "metadata": {
        "colab": {
          "base_uri": "https://localhost:8080/"
        },
        "id": "6deacf52",
        "outputId": "d7c66f1a-c629-4196-d633-4c6215a27419"
      },
      "outputs": [
        {
          "output_type": "stream",
          "name": "stdout",
          "text": [
            "Concatenación de arrays 1D: [1 2 3 4 5 6 7 8]\n",
            "Concatenación de arrays 2D a lo largo de filas:\n",
            " [[1 2 3]\n",
            " [4 5 6]\n",
            " [1 2 3]\n",
            " [4 5 6]]\n",
            "Concatenación de arrays 2D a lo largo de columnas:\n",
            " [[1 2 3 1 2 3]\n",
            " [4 5 6 4 5 6]]\n"
          ]
        }
      ],
      "source": [
        "arr_concat = np.concatenate([arr_1d, np.array([6, 7, 8])])\n",
        "print('Concatenación de arrays 1D:', arr_concat)\n",
        "\n",
        "arr_2d_concat = np.concatenate([arr_2d, arr_2d], axis=0)\n",
        "print('Concatenación de arrays 2D a lo largo de filas:\\n', arr_2d_concat)\n",
        "\n",
        "arr_2d_concat_col = np.concatenate([arr_2d, arr_2d], axis=1)\n",
        "print('Concatenación de arrays 2D a lo largo de columnas:\\n', arr_2d_concat_col)"
      ]
    }
  ],
  "metadata": {
    "colab": {
      "provenance": [],
      "include_colab_link": true
    },
    "language_info": {
      "name": "python"
    },
    "kernelspec": {
      "name": "python3",
      "display_name": "Python 3"
    }
  },
  "nbformat": 4,
  "nbformat_minor": 5
}