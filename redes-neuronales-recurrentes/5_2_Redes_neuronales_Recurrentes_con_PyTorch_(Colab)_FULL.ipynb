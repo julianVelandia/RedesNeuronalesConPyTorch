{
  "cells": [
    {
      "cell_type": "markdown",
      "metadata": {
        "id": "view-in-github",
        "colab_type": "text"
      },
      "source": [
        "<a href=\"https://colab.research.google.com/github/julianVelandia/RedesNeuronalesConPyTorch/blob/master/redes-neuronales-recurrentes/5_2_Redes_neuronales_Recurrentes_con_PyTorch_(Colab)_FULL.ipynb\" target=\"_parent\"><img src=\"https://colab.research.google.com/assets/colab-badge.svg\" alt=\"Open In Colab\"/></a>"
      ]
    },
    {
      "cell_type": "markdown",
      "source": [
        "# **Redes Neuronales Recurrentes (RNNs) con PyTorch**"
      ],
      "metadata": {
        "id": "lo4OfASdSShD"
      },
      "id": "lo4OfASdSShD"
    },
    {
      "cell_type": "markdown",
      "source": [
        "Las Redes Neuronales Recurrentes (RNN) son una arquitectura de red diseñada para procesar datos secuenciales, como texto o series temporales, donde el orden importa. A diferencia de las redes tradicionales, las RNN utilizan un estado oculto que se actualiza en cada paso, permitiendo que la red \"recuerde\" información previa en la secuencia.\n"
      ],
      "metadata": {
        "id": "09NasexsUbDi"
      },
      "id": "09NasexsUbDi"
    },
    {
      "cell_type": "markdown",
      "source": [
        "Configuración del Entorno\n",
        "Antes de empezar, asegúrate de tener instalado PyTorch, numpy y matplotlib. Estos son los paquetes principales que utilizaremos."
      ],
      "metadata": {
        "id": "wz1nTqNBSbEN"
      },
      "id": "wz1nTqNBSbEN"
    },
    {
      "cell_type": "code",
      "execution_count": null,
      "id": "7b945e21",
      "metadata": {
        "id": "7b945e21"
      },
      "outputs": [],
      "source": [
        "import numpy as np\n",
        "import torch\n",
        "import torch.nn as nn\n",
        "import torch.optim as optim\n",
        "import pandas as pd"
      ]
    },
    {
      "cell_type": "markdown",
      "id": "59ecc74a",
      "metadata": {
        "id": "59ecc74a"
      },
      "source": [
        "## Creación de una secuencia de datos simple\n",
        "\n",
        "Comenzamos importando las librerías que utilizaremos a lo largo del tutorial. `numpy` es útil para operaciones numéricas, `pandas` para el manejo de datos tabulares, y `torch` junto con sus submódulos nos permitirán construir y entrenar redes neuronales recurrentes (RNN) en PyTorch."
      ]
    },
    {
      "cell_type": "code",
      "execution_count": null,
      "id": "7a8941de",
      "metadata": {
        "colab": {
          "base_uri": "https://localhost:8080/"
        },
        "id": "7a8941de",
        "outputId": "22f16109-49ce-4f58-c0a7-742cc13c88ae"
      },
      "outputs": [
        {
          "output_type": "stream",
          "name": "stdout",
          "text": [
            "Datos:     value\n",
            "0      0\n",
            "1      1\n",
            "2      2\n",
            "3      3\n",
            "4      4\n"
          ]
        }
      ],
      "source": [
        "data = [i for i in range(10)]\n",
        "df = pd.DataFrame(data, columns=['value'])\n",
        "print(\"Datos: \",df.head())"
      ]
    },
    {
      "cell_type": "markdown",
      "id": "99449abf",
      "metadata": {
        "id": "99449abf"
      },
      "source": [
        "Aquí generamos una secuencia de datos simple que va de 0 a 9. Luego, almacenamos estos valores en un DataFrame para visualizar los datos. Aunque estos datos son básicos, nos servirán para entender el funcionamiento de una RNN en un contexto sencillo."
      ]
    },
    {
      "cell_type": "code",
      "execution_count": null,
      "id": "a69823ea",
      "metadata": {
        "colab": {
          "base_uri": "https://localhost:8080/"
        },
        "id": "a69823ea",
        "outputId": "168c0097-d945-4260-ef91-60bc0b252575"
      },
      "outputs": [
        {
          "output_type": "stream",
          "name": "stdout",
          "text": [
            "Secuencia como Tensor:  tensor([[[0.]],\n",
            "\n",
            "        [[1.]],\n",
            "\n",
            "        [[2.]],\n",
            "\n",
            "        [[3.]],\n",
            "\n",
            "        [[4.]],\n",
            "\n",
            "        [[5.]],\n",
            "\n",
            "        [[6.]],\n",
            "\n",
            "        [[7.]],\n",
            "\n",
            "        [[8.]],\n",
            "\n",
            "        [[9.]]])\n"
          ]
        }
      ],
      "source": [
        "sequence = torch.tensor(data, dtype=torch.float32).view(-1, 1, 1)\n",
        "print(\"Secuencia como Tensor: \", sequence)"
      ]
    },
    {
      "cell_type": "markdown",
      "id": "e3416390",
      "metadata": {
        "id": "e3416390"
      },
      "source": [
        "## Red Neuronal Recurrente simple\n",
        "\n",
        "Convertimos nuestra secuencia de datos en un tensor de PyTorch. Este tensor tendrá la forma adecuada para ser procesado por la RNN: `(longitud de la secuencia, tamaño del lote, número de características)`."
      ]
    },
    {
      "cell_type": "code",
      "execution_count": null,
      "id": "908f784e",
      "metadata": {
        "id": "908f784e"
      },
      "outputs": [],
      "source": [
        "class SimpleRNN(nn.Module):\n",
        "    \"\"\"Red Neuronal Recurrente simple.\"\"\"\n",
        "\n",
        "    def __init__(self, input_size, hidden_size, output_size):\n",
        "        \"\"\"Inicializa la red RNN.\"\"\"\n",
        "        super(SimpleRNN, self).__init__()\n",
        "        self.hidden_size = hidden_size\n",
        "        self.rnn = nn.RNN(input_size, hidden_size, batch_first=True)\n",
        "        self.fc = nn.Linear(hidden_size, output_size)\n",
        "\n",
        "    def forward(self, x, hidden):\n",
        "        \"\"\"Define el paso hacia adelante.\"\"\"\n",
        "        out, hidden = self.rnn(x, hidden)\n",
        "        # primera fila: todos\n",
        "        # Segunda fila: Último elemento (último paso temporal)\n",
        "        # Tercera fila: todos\n",
        "        out = self.fc(out[:, -1, :])\n",
        "        return out, hidden\n",
        "\n",
        "    def init_hidden(self, batch_size):\n",
        "        \"\"\"Inicializa el estado oculto.\"\"\"\n",
        "        return torch.zeros(1, batch_size, self.hidden_size)"
      ]
    },
    {
      "cell_type": "markdown",
      "id": "470cc636",
      "metadata": {
        "id": "470cc636"
      },
      "source": [
        "## Inicializando la red y los parámetros\n",
        "\n",
        "Aquí definimos una clase `SimpleRNN` que representa una red neuronal recurrente simple. Esta clase incluye una capa RNN y una capa lineal que procesa la salida de la última celda RNN. Además, el método `init_hidden` inicializa el estado oculto a ceros."
      ]
    },
    {
      "cell_type": "code",
      "execution_count": null,
      "id": "bbf7b362",
      "metadata": {
        "id": "bbf7b362"
      },
      "outputs": [],
      "source": [
        "\n",
        "input_size = 1\n",
        "hidden_size = 5\n",
        "output_size = 1\n",
        "rnn = SimpleRNN(input_size, hidden_size, output_size)\n",
        "criterion = nn.MSELoss()\n",
        "optimizer = optim.SGD(rnn.parameters(), lr=0.01)"
      ]
    },
    {
      "cell_type": "markdown",
      "id": "1b1e6a76",
      "metadata": {
        "id": "1b1e6a76"
      },
      "source": [
        "Inicializamos nuestra red neuronal con un tamaño de entrada de 1, un tamaño de capa oculta de 5, y un tamaño de salida de 1. Usamos el error cuadrático medio (`MSELoss`) como función de pérdida y el método de descenso de gradiente estocástico (`SGD`) como optimizador."
      ]
    },
    {
      "cell_type": "markdown",
      "id": "0994d4ed",
      "metadata": {
        "id": "0994d4ed"
      },
      "source": [
        "## Preparación de los datos para entrenamiento\n",
        "\n",
        "Aquí preparamos los datos de entrenamiento. Usamos la misma secuencia como objetivo (`target`), lo que significa que la red intentará predecir cada valor de la secuencia dado el valor anterior."
      ]
    },
    {
      "cell_type": "code",
      "source": [
        "target = sequence.clone()\n",
        "print(\"Objetivo: \", target)"
      ],
      "metadata": {
        "colab": {
          "base_uri": "https://localhost:8080/"
        },
        "id": "Uv2-A4n-VAnv",
        "outputId": "97476bf7-4254-4282-e8d8-f101d400ac77"
      },
      "id": "Uv2-A4n-VAnv",
      "execution_count": null,
      "outputs": [
        {
          "output_type": "stream",
          "name": "stdout",
          "text": [
            "Objetivo:  tensor([[[0.]],\n",
            "\n",
            "        [[1.]],\n",
            "\n",
            "        [[2.]],\n",
            "\n",
            "        [[3.]],\n",
            "\n",
            "        [[4.]],\n",
            "\n",
            "        [[5.]],\n",
            "\n",
            "        [[6.]],\n",
            "\n",
            "        [[7.]],\n",
            "\n",
            "        [[8.]],\n",
            "\n",
            "        [[9.]]])\n"
          ]
        }
      ]
    },
    {
      "cell_type": "markdown",
      "source": [
        "## Entrenamiento de la RNN con un bucle de entrenamiento básico"
      ],
      "metadata": {
        "id": "_A18jxy-VHkB"
      },
      "id": "_A18jxy-VHkB"
    },
    {
      "cell_type": "code",
      "execution_count": null,
      "id": "84186bc2",
      "metadata": {
        "colab": {
          "base_uri": "https://localhost:8080/"
        },
        "id": "84186bc2",
        "outputId": "b745e05c-9728-47c9-d2e7-21739e4bc21c"
      },
      "outputs": [
        {
          "output_type": "stream",
          "name": "stdout",
          "text": [
            "Epoch 0, Loss: 29.301565170288086\n",
            "Epoch 1, Loss: 26.031265258789062\n",
            "Epoch 2, Loss: 23.220966339111328\n",
            "Epoch 3, Loss: 20.802444458007812\n",
            "Epoch 4, Loss: 18.759593963623047\n",
            "Epoch 5, Loss: 17.074010848999023\n",
            "Epoch 6, Loss: 15.671239852905273\n",
            "Epoch 7, Loss: 14.490802764892578\n",
            "Epoch 8, Loss: 13.494032859802246\n",
            "Epoch 9, Loss: 12.651274681091309\n"
          ]
        }
      ],
      "source": [
        "sequence = sequence.view(10, 1, 1)\n",
        "\n",
        "epochs = 10\n",
        "for epoch in range(epochs):\n",
        "    hidden = rnn.init_hidden(10)\n",
        "    optimizer.zero_grad()\n",
        "    output, hidden = rnn(sequence, hidden)\n",
        "    loss = criterion(output, target)\n",
        "    loss.backward()\n",
        "    optimizer.step()\n",
        "\n",
        "\n",
        "    print(f'Epoch {epoch}, Loss: {loss.item()}')"
      ]
    },
    {
      "cell_type": "markdown",
      "id": "c19fbda4",
      "metadata": {
        "id": "c19fbda4"
      },
      "source": [
        "Entrenamos la red neuronal recurrente con un bucle básico. Durante cada época, inicializamos el estado oculto, calculamos la salida de la red, evaluamos la pérdida, retropropagamos los gradientes y actualizamos los parámetros de la red. Imprimimos la pérdida cada 10 épocas para monitorear el proceso de entrenamiento."
      ]
    },
    {
      "cell_type": "markdown",
      "source": [
        "## Evaluación del modelo entrenado"
      ],
      "metadata": {
        "id": "_JgWw6VlVOdC"
      },
      "id": "_JgWw6VlVOdC"
    },
    {
      "cell_type": "code",
      "execution_count": null,
      "id": "1946aa7c",
      "metadata": {
        "colab": {
          "base_uri": "https://localhost:8080/"
        },
        "id": "1946aa7c",
        "outputId": "5062c0d3-2640-414c-ccfc-bfb87f1de34e"
      },
      "outputs": [
        {
          "output_type": "stream",
          "name": "stdout",
          "text": [
            "tensor([[1.8678],\n",
            "        [2.2586],\n",
            "        [2.5121],\n",
            "        [2.6620],\n",
            "        [2.7442],\n",
            "        [2.7849],\n",
            "        [2.8011],\n",
            "        [2.8037],\n",
            "        [2.7993],\n",
            "        [2.7918]])\n",
            "predicted:  tensor([[1.8678],\n",
            "        [2.2586],\n",
            "        [2.5121],\n",
            "        [2.6620],\n",
            "        [2.7442],\n",
            "        [2.7849],\n",
            "        [2.8011],\n",
            "        [2.8037],\n",
            "        [2.7993],\n",
            "        [2.7918]])\n"
          ]
        }
      ],
      "source": [
        "with torch.no_grad():\n",
        "    hidden = rnn.init_hidden(10)\n",
        "    predicted, hidden = rnn(sequence.view(10, 1, 1), hidden)\n",
        "    print(predicted)\n",
        "print(\"predicted: \", predicted)"
      ]
    },
    {
      "cell_type": "markdown",
      "id": "e9d6e858",
      "metadata": {
        "id": "e9d6e858"
      },
      "source": [
        "Después de entrenar la red, evaluamos su rendimiento utilizando los mismos datos de entrada. Esto nos permite observar qué tan bien la red ha aprendido a predecir la secuencia."
      ]
    }
  ],
  "metadata": {
    "colab": {
      "provenance": [],
      "include_colab_link": true
    },
    "language_info": {
      "name": "python"
    },
    "kernelspec": {
      "name": "python3",
      "display_name": "Python 3"
    }
  },
  "nbformat": 4,
  "nbformat_minor": 5
}